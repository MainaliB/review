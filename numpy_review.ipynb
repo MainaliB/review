{
 "cells": [
  {
   "cell_type": "markdown",
   "metadata": {},
   "source": [
    "**`NumPy`, short for Numerical Python, is the fundamental package required for high\n",
    "performance scientific computing and data analysis. It is the foundation on which\n",
    "nearly all of the higher-level tools for data science in python are built.**"
   ]
  },
  {
   "cell_type": "markdown",
   "metadata": {},
   "source": [
    "**Some of the things provided by NumPy are:**\n",
    "- `ndarray`: a fast and space efficient multidimensional array providing vectorized arithmetic operations and sophisticated broadcasting capabilities\n",
    "- standard mathematical functions for fast operations on entire arraus of data without having to write loops\n",
    "- tools for reading/writing array  data to disk and working with memory-mapped files\n",
    "- linear algebra, random number generations\n",
    "- \n"
   ]
  },
  {
   "cell_type": "code",
   "execution_count": null,
   "metadata": {},
   "outputs": [],
   "source": []
  }
 ],
 "metadata": {
  "kernelspec": {
   "display_name": "Python 3",
   "language": "python",
   "name": "python3"
  },
  "language_info": {
   "codemirror_mode": {
    "name": "ipython",
    "version": 3
   },
   "file_extension": ".py",
   "mimetype": "text/x-python",
   "name": "python",
   "nbconvert_exporter": "python",
   "pygments_lexer": "ipython3",
   "version": "3.7.6"
  }
 },
 "nbformat": 4,
 "nbformat_minor": 4
}
