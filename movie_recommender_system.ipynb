{
 "cells": [
  {
   "cell_type": "markdown",
   "metadata": {},
   "source": [
    "**This is just a practice project to refresh basic skills. The data is acquired from a book that I have been reading named `Models of Learning and Optimization for Data Scientists`. The link to the data is published on the book.**"
   ]
  },
  {
   "cell_type": "code",
   "execution_count": 1,
   "metadata": {},
   "outputs": [],
   "source": [
    "import pandas as pd\n",
    "import numpy as np\n",
    "import matplotlib.pyplot as plt\n",
    "import seaborn as sns"
   ]
  },
  {
   "cell_type": "code",
   "execution_count": 11,
   "metadata": {},
   "outputs": [],
   "source": [
    "# lets get the data\n",
    "# the data consists information about the winners of the Oscar in the best movie categroy \n",
    "# from 1927-2018\n",
    "df = pd.read_csv('best-pictures.csv')"
   ]
  },
  {
   "cell_type": "code",
   "execution_count": 12,
   "metadata": {},
   "outputs": [
    {
     "data": {
      "text/html": [
       "<div>\n",
       "<style scoped>\n",
       "    .dataframe tbody tr th:only-of-type {\n",
       "        vertical-align: middle;\n",
       "    }\n",
       "\n",
       "    .dataframe tbody tr th {\n",
       "        vertical-align: top;\n",
       "    }\n",
       "\n",
       "    .dataframe thead th {\n",
       "        text-align: right;\n",
       "    }\n",
       "</style>\n",
       "<table border=\"1\" class=\"dataframe\">\n",
       "  <thead>\n",
       "    <tr style=\"text-align: right;\">\n",
       "      <th></th>\n",
       "      <th>name</th>\n",
       "      <th>year</th>\n",
       "      <th>nominations</th>\n",
       "      <th>rating</th>\n",
       "      <th>duration</th>\n",
       "      <th>genre1</th>\n",
       "      <th>genre2</th>\n",
       "      <th>release</th>\n",
       "      <th>synopsis</th>\n",
       "    </tr>\n",
       "  </thead>\n",
       "  <tbody>\n",
       "    <tr>\n",
       "      <th>0</th>\n",
       "      <td>The Shape of Water</td>\n",
       "      <td>2017</td>\n",
       "      <td>13</td>\n",
       "      <td>7.4</td>\n",
       "      <td>123</td>\n",
       "      <td>Fantasy</td>\n",
       "      <td>Drama</td>\n",
       "      <td>August</td>\n",
       "      <td>At a top secret research facility in the 1960s...</td>\n",
       "    </tr>\n",
       "    <tr>\n",
       "      <th>1</th>\n",
       "      <td>Moonlight</td>\n",
       "      <td>2016</td>\n",
       "      <td>8</td>\n",
       "      <td>7.5</td>\n",
       "      <td>111</td>\n",
       "      <td>Drama</td>\n",
       "      <td>NaN</td>\n",
       "      <td>November</td>\n",
       "      <td>A chronicle of the childhood; adolescence and ...</td>\n",
       "    </tr>\n",
       "    <tr>\n",
       "      <th>2</th>\n",
       "      <td>Spotlight</td>\n",
       "      <td>2015</td>\n",
       "      <td>6</td>\n",
       "      <td>8.1</td>\n",
       "      <td>128</td>\n",
       "      <td>Crime</td>\n",
       "      <td>Drama</td>\n",
       "      <td>November</td>\n",
       "      <td>The true story of how the Boston Globe uncover...</td>\n",
       "    </tr>\n",
       "    <tr>\n",
       "      <th>3</th>\n",
       "      <td>Birdman</td>\n",
       "      <td>2014</td>\n",
       "      <td>9</td>\n",
       "      <td>7.8</td>\n",
       "      <td>119</td>\n",
       "      <td>Comedy</td>\n",
       "      <td>Drama</td>\n",
       "      <td>November</td>\n",
       "      <td>Illustrated upon the progress of his latest Br...</td>\n",
       "    </tr>\n",
       "    <tr>\n",
       "      <th>4</th>\n",
       "      <td>12 Years a Slave</td>\n",
       "      <td>2013</td>\n",
       "      <td>9</td>\n",
       "      <td>8.1</td>\n",
       "      <td>134</td>\n",
       "      <td>Biography</td>\n",
       "      <td>Drama</td>\n",
       "      <td>November</td>\n",
       "      <td>In the antebellum United States Solomon Northu...</td>\n",
       "    </tr>\n",
       "    <tr>\n",
       "      <th>...</th>\n",
       "      <td>...</td>\n",
       "      <td>...</td>\n",
       "      <td>...</td>\n",
       "      <td>...</td>\n",
       "      <td>...</td>\n",
       "      <td>...</td>\n",
       "      <td>...</td>\n",
       "      <td>...</td>\n",
       "      <td>...</td>\n",
       "    </tr>\n",
       "    <tr>\n",
       "      <th>85</th>\n",
       "      <td>Grand Hotel</td>\n",
       "      <td>1931</td>\n",
       "      <td>1</td>\n",
       "      <td>7.6</td>\n",
       "      <td>112</td>\n",
       "      <td>Drama</td>\n",
       "      <td>Romance</td>\n",
       "      <td>September</td>\n",
       "      <td>A group of very different individuals staying ...</td>\n",
       "    </tr>\n",
       "    <tr>\n",
       "      <th>86</th>\n",
       "      <td>Cimarron</td>\n",
       "      <td>1930</td>\n",
       "      <td>7</td>\n",
       "      <td>6.0</td>\n",
       "      <td>123</td>\n",
       "      <td>Drama</td>\n",
       "      <td>Western</td>\n",
       "      <td>February</td>\n",
       "      <td>A newspaper editor settles in an Oklahoma boom...</td>\n",
       "    </tr>\n",
       "    <tr>\n",
       "      <th>87</th>\n",
       "      <td>All Quiet on the Western Front</td>\n",
       "      <td>1929</td>\n",
       "      <td>4</td>\n",
       "      <td>8.1</td>\n",
       "      <td>136</td>\n",
       "      <td>Drama</td>\n",
       "      <td>War</td>\n",
       "      <td>August</td>\n",
       "      <td>A young soldier faces profound disillusionment...</td>\n",
       "    </tr>\n",
       "    <tr>\n",
       "      <th>88</th>\n",
       "      <td>The Broadway Melody</td>\n",
       "      <td>1928</td>\n",
       "      <td>3</td>\n",
       "      <td>6.4</td>\n",
       "      <td>100</td>\n",
       "      <td>Musical</td>\n",
       "      <td>Romance</td>\n",
       "      <td>June</td>\n",
       "      <td>Harriet and Queenie Mahoney a vaudeville act c...</td>\n",
       "    </tr>\n",
       "    <tr>\n",
       "      <th>89</th>\n",
       "      <td>Wings</td>\n",
       "      <td>1927</td>\n",
       "      <td>2</td>\n",
       "      <td>7.8</td>\n",
       "      <td>144</td>\n",
       "      <td>Drama</td>\n",
       "      <td>Romance</td>\n",
       "      <td>January</td>\n",
       "      <td>Two young men one rich one middle class who ar...</td>\n",
       "    </tr>\n",
       "  </tbody>\n",
       "</table>\n",
       "<p>90 rows × 9 columns</p>\n",
       "</div>"
      ],
      "text/plain": [
       "                              name  year  nominations  rating  duration  \\\n",
       "0               The Shape of Water  2017           13     7.4       123   \n",
       "1                        Moonlight  2016            8     7.5       111   \n",
       "2                        Spotlight  2015            6     8.1       128   \n",
       "3                          Birdman  2014            9     7.8       119   \n",
       "4                 12 Years a Slave  2013            9     8.1       134   \n",
       "..                             ...   ...          ...     ...       ...   \n",
       "85                     Grand Hotel  1931            1     7.6       112   \n",
       "86                        Cimarron  1930            7     6.0       123   \n",
       "87  All Quiet on the Western Front  1929            4     8.1       136   \n",
       "88             The Broadway Melody  1928            3     6.4       100   \n",
       "89                           Wings  1927            2     7.8       144   \n",
       "\n",
       "       genre1   genre2    release  \\\n",
       "0     Fantasy    Drama     August   \n",
       "1       Drama      NaN   November   \n",
       "2       Crime    Drama   November   \n",
       "3      Comedy    Drama   November   \n",
       "4   Biography    Drama   November   \n",
       "..        ...      ...        ...   \n",
       "85      Drama  Romance  September   \n",
       "86      Drama  Western   February   \n",
       "87      Drama      War     August   \n",
       "88    Musical  Romance       June   \n",
       "89      Drama  Romance    January   \n",
       "\n",
       "                                             synopsis  \n",
       "0   At a top secret research facility in the 1960s...  \n",
       "1   A chronicle of the childhood; adolescence and ...  \n",
       "2   The true story of how the Boston Globe uncover...  \n",
       "3   Illustrated upon the progress of his latest Br...  \n",
       "4   In the antebellum United States Solomon Northu...  \n",
       "..                                                ...  \n",
       "85  A group of very different individuals staying ...  \n",
       "86  A newspaper editor settles in an Oklahoma boom...  \n",
       "87  A young soldier faces profound disillusionment...  \n",
       "88  Harriet and Queenie Mahoney a vaudeville act c...  \n",
       "89  Two young men one rich one middle class who ar...  \n",
       "\n",
       "[90 rows x 9 columns]"
      ]
     },
     "execution_count": 12,
     "metadata": {},
     "output_type": "execute_result"
    }
   ],
   "source": [
    "# lets take a look at the data\n",
    "df"
   ]
  },
  {
   "cell_type": "code",
   "execution_count": 4,
   "metadata": {},
   "outputs": [
    {
     "data": {
      "text/plain": [
       "(90, 9)"
      ]
     },
     "execution_count": 4,
     "metadata": {},
     "output_type": "execute_result"
    }
   ],
   "source": [
    "# lets check the shape of the data\n",
    "df.shape"
   ]
  },
  {
   "cell_type": "code",
   "execution_count": 5,
   "metadata": {},
   "outputs": [
    {
     "data": {
      "text/html": [
       "<div>\n",
       "<style scoped>\n",
       "    .dataframe tbody tr th:only-of-type {\n",
       "        vertical-align: middle;\n",
       "    }\n",
       "\n",
       "    .dataframe tbody tr th {\n",
       "        vertical-align: top;\n",
       "    }\n",
       "\n",
       "    .dataframe thead th {\n",
       "        text-align: right;\n",
       "    }\n",
       "</style>\n",
       "<table border=\"1\" class=\"dataframe\">\n",
       "  <thead>\n",
       "    <tr style=\"text-align: right;\">\n",
       "      <th></th>\n",
       "      <th>count</th>\n",
       "      <th>mean</th>\n",
       "      <th>std</th>\n",
       "      <th>min</th>\n",
       "      <th>25%</th>\n",
       "      <th>50%</th>\n",
       "      <th>75%</th>\n",
       "      <th>max</th>\n",
       "    </tr>\n",
       "  </thead>\n",
       "  <tbody>\n",
       "    <tr>\n",
       "      <th>year</th>\n",
       "      <td>90.0</td>\n",
       "      <td>1972.444444</td>\n",
       "      <td>26.216948</td>\n",
       "      <td>1927.0</td>\n",
       "      <td>1950.25</td>\n",
       "      <td>1972.5</td>\n",
       "      <td>1994.75</td>\n",
       "      <td>2017.0</td>\n",
       "    </tr>\n",
       "    <tr>\n",
       "      <th>nominations</th>\n",
       "      <td>90.0</td>\n",
       "      <td>8.988889</td>\n",
       "      <td>2.671087</td>\n",
       "      <td>1.0</td>\n",
       "      <td>7.00</td>\n",
       "      <td>9.0</td>\n",
       "      <td>11.00</td>\n",
       "      <td>14.0</td>\n",
       "    </tr>\n",
       "    <tr>\n",
       "      <th>rating</th>\n",
       "      <td>90.0</td>\n",
       "      <td>7.858889</td>\n",
       "      <td>0.590352</td>\n",
       "      <td>6.0</td>\n",
       "      <td>7.60</td>\n",
       "      <td>8.0</td>\n",
       "      <td>8.20</td>\n",
       "      <td>9.2</td>\n",
       "    </tr>\n",
       "    <tr>\n",
       "      <th>duration</th>\n",
       "      <td>90.0</td>\n",
       "      <td>138.033333</td>\n",
       "      <td>31.231089</td>\n",
       "      <td>90.0</td>\n",
       "      <td>118.00</td>\n",
       "      <td>128.5</td>\n",
       "      <td>158.75</td>\n",
       "      <td>238.0</td>\n",
       "    </tr>\n",
       "  </tbody>\n",
       "</table>\n",
       "</div>"
      ],
      "text/plain": [
       "             count         mean        std     min      25%     50%      75%  \\\n",
       "year          90.0  1972.444444  26.216948  1927.0  1950.25  1972.5  1994.75   \n",
       "nominations   90.0     8.988889   2.671087     1.0     7.00     9.0    11.00   \n",
       "rating        90.0     7.858889   0.590352     6.0     7.60     8.0     8.20   \n",
       "duration      90.0   138.033333  31.231089    90.0   118.00   128.5   158.75   \n",
       "\n",
       "                max  \n",
       "year         2017.0  \n",
       "nominations    14.0  \n",
       "rating          9.2  \n",
       "duration      238.0  "
      ]
     },
     "execution_count": 5,
     "metadata": {},
     "output_type": "execute_result"
    }
   ],
   "source": [
    "# lets get some descriptive stats\n",
    "df.describe().T"
   ]
  },
  {
   "cell_type": "code",
   "execution_count": 6,
   "metadata": {},
   "outputs": [
    {
     "name": "stdout",
     "output_type": "stream",
     "text": [
      "<class 'pandas.core.frame.DataFrame'>\n",
      "RangeIndex: 90 entries, 0 to 89\n",
      "Data columns (total 9 columns):\n",
      " #   Column       Non-Null Count  Dtype  \n",
      "---  ------       --------------  -----  \n",
      " 0   name         90 non-null     object \n",
      " 1   year         90 non-null     int64  \n",
      " 2   nominations  90 non-null     int64  \n",
      " 3   rating       90 non-null     float64\n",
      " 4   duration     90 non-null     int64  \n",
      " 5   genre1       90 non-null     object \n",
      " 6   genre2       81 non-null     object \n",
      " 7   release      89 non-null     object \n",
      " 8   synopsis     90 non-null     object \n",
      "dtypes: float64(1), int64(3), object(5)\n",
      "memory usage: 6.5+ KB\n"
     ]
    }
   ],
   "source": [
    "# lets check the datatypes\n",
    "df.info()"
   ]
  },
  {
   "cell_type": "code",
   "execution_count": 7,
   "metadata": {},
   "outputs": [
    {
     "data": {
      "text/plain": [
       "name           0\n",
       "year           0\n",
       "nominations    0\n",
       "rating         0\n",
       "duration       0\n",
       "genre1         0\n",
       "genre2         9\n",
       "release        1\n",
       "synopsis       0\n",
       "dtype: int64"
      ]
     },
     "execution_count": 7,
     "metadata": {},
     "output_type": "execute_result"
    }
   ],
   "source": [
    "# lets see if we have any null values\n",
    "df.isnull().sum()"
   ]
  },
  {
   "cell_type": "code",
   "execution_count": 8,
   "metadata": {},
   "outputs": [
    {
     "name": "stdout",
     "output_type": "stream",
     "text": [
      "The Greatest Show on Earth        1\n",
      "Cavalcade                         1\n",
      "Slumdog Millionaire               1\n",
      "Million Dollar Baby               1\n",
      "From Here to Eternity             1\n",
      "                                 ..\n",
      "American Beauty                   1\n",
      "All Quiet on the Western Front    1\n",
      "Chariots of Fire                  1\n",
      "Gigi                              1\n",
      "An American in Paris              1\n",
      "Name: name, Length: 90, dtype: int64\n",
      "\n",
      "The value count for name\n",
      "Drama        37\n",
      "Biography    16\n",
      "Comedy       14\n",
      "Crime         9\n",
      "Adventure     8\n",
      "Action        2\n",
      "Musical       2\n",
      "Western       1\n",
      "Fantasy       1\n",
      "Name: genre1, dtype: int64\n",
      "\n",
      "The value count for genre1\n",
      "Drama        42\n",
      "Romance      18\n",
      "Family        4\n",
      "Crime         4\n",
      "War           3\n",
      "Comedy        2\n",
      "Sport         2\n",
      "History       1\n",
      "Film-Noir     1\n",
      "Biography     1\n",
      "Musical       1\n",
      "Western       1\n",
      "Mystery       1\n",
      "Name: genre2, dtype: int64\n",
      "\n",
      "The value count for genre2\n",
      "December     18\n",
      "October      13\n",
      "November     11\n",
      "January      10\n",
      "February      8\n",
      "May           6\n",
      "April         6\n",
      "June          5\n",
      "August        5\n",
      "September     3\n",
      "July          2\n",
      "March         2\n",
      "Name: release, dtype: int64\n",
      "\n",
      "The value count for release\n",
      "The dramatic lives of trapeze artists a clown and an elephant trainer against a background of circus spectacle.                                                                 1\n",
      "At a top secret research facility in the 1960s, a lonely janitor forms a unique relationship with an amphibious creature that is being held in captivity.                       1\n",
      "At the turn of the century in a Welsh mining village the Morgans (he stern she gentle) raise coal-mining sons and hope their youngest will find a better life.                  1\n",
      "Fletcher Christian successfully leads a revolt against the ruthless Captain Bligh on the HMS Bounty. However Bligh returns one year later hell bent on avenging his captors.    1\n",
      "Violence and mayhem ensue after a hunter stumbles upon a drug deal gone wrong and more than two million dollars in cash near the Rio Grande.                                    1\n",
      "                                                                                                                                                                               ..\n",
      "A British family struggles to survive the first months of World War II.                                                                                                         1\n",
      "An in-depth examination of the ways in which the U.S. Vietnam war impacts and disrupts the lives of people in a small industrial town in Pennsylvania.                          1\n",
      "Retired Old West gunslinger William Munny reluctantly takes on one last job with the help of his old partner and a young man.                                                   1\n",
      "Two youngsters from rival New York City gangs fall in love but tensions between their respective friends build toward tragedy.                                                  1\n",
      "Two young men one rich one middle class who are in love with the same woman become fighter pilots in World War I.                                                               1\n",
      "Name: synopsis, Length: 90, dtype: int64\n",
      "\n",
      "The value count for synopsis\n"
     ]
    }
   ],
   "source": [
    "# lets get value count for some of these coulumns of objectdatatype\n",
    "for col in df.columns:\n",
    "    if df[col].dtype == 'O':\n",
    "        print(df[col].value_counts())\n",
    "        print()\n",
    "        print(f'The value count for {col}')"
   ]
  },
  {
   "cell_type": "code",
   "execution_count": 67,
   "metadata": {},
   "outputs": [
    {
     "name": "stdout",
     "output_type": "stream",
     "text": [
      "The movie and year with the highest number of nominations is:\n"
     ]
    },
    {
     "data": {
      "text/plain": [
       "name           Titanic\n",
       "year              1997\n",
       "nominations         14\n",
       "Name: 20, dtype: object"
      ]
     },
     "execution_count": 67,
     "metadata": {},
     "output_type": "execute_result"
    }
   ],
   "source": [
    "# lets try to answer some questions like what movies and years for max and numbers of nominations,\n",
    "# user ratings, and durations\n",
    "\n",
    "# movie and year with maximum number of nominations\n",
    "print('The movie and year with the highest number of nominations is:')\n",
    "df[['name', 'year', 'nominations']].loc[df.nominations.idxmax()]\n"
   ]
  },
  {
   "cell_type": "code",
   "execution_count": 68,
   "metadata": {},
   "outputs": [
    {
     "name": "stdout",
     "output_type": "stream",
     "text": [
      "The movie and year with the highest number of user rating is:\n"
     ]
    },
    {
     "data": {
      "text/plain": [
       "name      The Godfather\n",
       "year               1972\n",
       "rating              9.2\n",
       "Name: 45, dtype: object"
      ]
     },
     "execution_count": 68,
     "metadata": {},
     "output_type": "execute_result"
    }
   ],
   "source": [
    "# movie and year with the highest number of user rating\n",
    "print('The movie and year with the highest number of user rating is:')\n",
    "df[['name', 'year', 'rating']].loc[df.rating.idxmax()]"
   ]
  },
  {
   "cell_type": "code",
   "execution_count": 69,
   "metadata": {},
   "outputs": [
    {
     "name": "stdout",
     "output_type": "stream",
     "text": [
      "The movie and year with the longest duration is:\n"
     ]
    },
    {
     "data": {
      "text/plain": [
       "name        Gone With the Wind\n",
       "duration                   238\n",
       "year                      1939\n",
       "Name: 78, dtype: object"
      ]
     },
     "execution_count": 69,
     "metadata": {},
     "output_type": "execute_result"
    }
   ],
   "source": [
    "# movie and year with the longest duration\n",
    "print('The movie and year with the longest duration is:')\n",
    "df[['name',  'duration', 'year']].loc[df.duration.idxmax()]"
   ]
  },
  {
   "cell_type": "code",
   "execution_count": 70,
   "metadata": {},
   "outputs": [
    {
     "name": "stdout",
     "output_type": "stream",
     "text": [
      "The movie and year with the lowest number of nominations is:\n"
     ]
    },
    {
     "data": {
      "text/plain": [
       "name           Grand Hotel\n",
       "year                  1931\n",
       "nominations              1\n",
       "Name: 85, dtype: object"
      ]
     },
     "execution_count": 70,
     "metadata": {},
     "output_type": "execute_result"
    }
   ],
   "source": [
    "# movie and year with the lowest number of nomination\n",
    "print('The movie and year with the lowest number of nominations is:')\n",
    "df[['name', 'year',  'nominations']].loc[df.nominations.idxmin()]"
   ]
  },
  {
   "cell_type": "code",
   "execution_count": 71,
   "metadata": {},
   "outputs": [
    {
     "name": "stdout",
     "output_type": "stream",
     "text": [
      "The movie and year with the lowest number of user rating is:\n"
     ]
    },
    {
     "data": {
      "text/plain": [
       "name      Cimarron\n",
       "rating           6\n",
       "year          1930\n",
       "Name: 86, dtype: object"
      ]
     },
     "execution_count": 71,
     "metadata": {},
     "output_type": "execute_result"
    }
   ],
   "source": [
    "# movie and year with the lowest user rating\n",
    "print('The movie and year with the lowest number of user rating is:')\n",
    "df[['name', 'rating', 'year']].loc[df.rating.idxmin()]"
   ]
  },
  {
   "cell_type": "code",
   "execution_count": 72,
   "metadata": {},
   "outputs": [
    {
     "name": "stdout",
     "output_type": "stream",
     "text": [
      "The movie and year with the shortest duration is:\n"
     ]
    },
    {
     "data": {
      "text/plain": [
       "name        Marty\n",
       "duration       90\n",
       "year         1955\n",
       "Name: 62, dtype: object"
      ]
     },
     "execution_count": 72,
     "metadata": {},
     "output_type": "execute_result"
    }
   ],
   "source": [
    "# movie and year with the shortest duration\n",
    "print('The movie and year with the shortest duration is:')\n",
    "df[['name', 'duration', 'year']].loc[df.duration.idxmin()]"
   ]
  },
  {
   "cell_type": "code",
   "execution_count": 9,
   "metadata": {},
   "outputs": [
    {
     "data": {
      "image/png": "[encoded data removed]",
      "text/plain": [
       "<Figure size 432x288 with 1 Axes>"
      ]
     },
     "metadata": {
      "needs_background": "light"
     },
     "output_type": "display_data"
    }
   ],
   "source": [
    "# lets see the number of nominations per year graphically\n",
    "x = df['year'][::-1]\n",
    "y = df['nominations'][::-1]\n",
    "plt.plot(x,y)\n",
    "avg_y = np.array([y.mean() for i in range(len(y))])\n",
    "plt.plot(x, avg_y)\n",
    "plt.legend(('Nominations', 'Average'), loc = 'lower right')\n",
    "plt.title('Nominations per year against the Average')\n",
    "plt.show()"
   ]
  },
  {
   "cell_type": "code",
   "execution_count": 10,
   "metadata": {},
   "outputs": [
    {
     "data": {
      "image/png": "[encoded data removed]",
      "text/plain": [
       "<Figure size 432x288 with 2 Axes>"
      ]
     },
     "metadata": {
      "needs_background": "light"
     },
     "output_type": "display_data"
    }
   ],
   "source": [
    "# lets do some additional visualizations\n",
    "# creating subplots\n",
    "fig, axs = plt.subplots(2,1)\n",
    "\n",
    "# plotting the first plot\n",
    "axs[0].plot(x,y, 'ro-')\n",
    "axs[0].set_ylim(1,18)\n",
    "\n",
    "# plotting the second plot\n",
    "axs[1].hist(y, bins=14, edgecolor= 'black', linewidth=1.2)\n",
    "axs[1].set_ylim([1, 18])\n",
    "# setting the x axis and y axis label\n",
    "axs[1].set_xlabel('Nominations')\n",
    "axs[1].set_ylabel('Movie count')\n",
    "plt.show()\n"
   ]
  },
  {
   "cell_type": "code",
   "execution_count": null,
   "metadata": {},
   "outputs": [],
   "source": [
    "# "
   ]
  }
 ],
 "metadata": {
  "kernelspec": {
   "display_name": "Python 3",
   "language": "python",
   "name": "python3"
  },
  "language_info": {
   "codemirror_mode": {
    "name": "ipython",
    "version": 3
   },
   "file_extension": ".py",
   "mimetype": "text/x-python",
   "name": "python",
   "nbconvert_exporter": "python",
   "pygments_lexer": "ipython3",
   "version": "3.7.6"
  }
 },
 "nbformat": 4,
 "nbformat_minor": 4
}
