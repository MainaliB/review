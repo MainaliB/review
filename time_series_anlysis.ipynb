{
 "cells": [
  {
   "cell_type": "markdown",
   "metadata": {},
   "source": [
    "**Anything that is observed or measured at many points in time forms a time series.**\n",
    "\n",
    "**Time series analysis is about finding patterns in temporal data and making predictions, forecasting, based on those patterns.**\n",
    "\n",
    "**Vocabulary used in Time Series**\n",
    "- `Timestamps`: specific instants in time\n",
    "\n",
    "- `Fixed periods`: such as the month May 2005 or the full year 2010\n",
    "\n",
    "- `Intervals`: of time, indicated by a start and end timestamp. \n",
    "\n",
    "- `Temporal`: relating to time\n",
    "\n",
    "- `Periodic`: Occuring at intervals/special case of intervals\n",
    "\n",
    "- `Resampling in Time Series`: Changing the frequency of your data points\n",
    "\n",
    "- `Stationary Process`: Distribution does not change over time\n",
    "\n",
    "- `Trend`: Long term progress(either increasing or decreasing)\n",
    "\n",
    "- `Seasonality`: Changes in patterns due to seasonal factors\n",
    "\n",
    "- `Heteroskedasticity`: Changes in variance over time\n",
    "\n",
    "- `Autocorrelation`: Regression of self, used to detectnon randomness in data. It is a correlation coefficient, but instead of between two variables, it is between the values of the same variable at two different times\n",
    "\n",
    "- `Lag variables`: Previous time steps\n",
    "\n",
    "**Pandas provides a standard set of time series tools and data algorithms. With this, we can effeciently work with very large time series and easily slice and dice, aggregate, and resample irregular and fixed frequency time series**\n",
    "\n",
    "**We can also use Python builtin datetime module to manipulate datetime data types. First, we will use the standard  Python datetime module and later used Pandas**\n",
    " "
   ]
  },
  {
   "cell_type": "code",
   "execution_count": 3,
   "metadata": {},
   "outputs": [],
   "source": [
    "# lets get the necessary imports\n",
    "\n",
    "import pandas as pd\n",
    "from datetime import datetime"
   ]
  },
  {
   "cell_type": "code",
   "execution_count": 4,
   "metadata": {},
   "outputs": [
    {
     "data": {
      "text/plain": [
       "datetime.datetime(2021, 1, 10, 20, 22, 16, 862499)"
      ]
     },
     "execution_count": 4,
     "metadata": {},
     "output_type": "execute_result"
    }
   ],
   "source": [
    "# lets do some basic function run\n",
    "now = datetime.now()\n",
    "now"
   ]
  },
  {
   "cell_type": "code",
   "execution_count": 5,
   "metadata": {},
   "outputs": [
    {
     "data": {
      "text/plain": [
       "(2021, 1, 10)"
      ]
     },
     "execution_count": 5,
     "metadata": {},
     "output_type": "execute_result"
    }
   ],
   "source": [
    "# we cab get the year, month, day from the now like such\n",
    "now.year, now.month, now.day"
   ]
  },
  {
   "cell_type": "markdown",
   "metadata": {},
   "source": [
    "**datetime stores both the date and time down to the microsecond. `datetime.timedelta` represents the temporal difference between two datetime objects. Lets look at some examples:**"
   ]
  },
  {
   "cell_type": "code",
   "execution_count": 6,
   "metadata": {},
   "outputs": [
    {
     "data": {
      "text/plain": [
       "datetime.timedelta(days=957, seconds=56700)"
      ]
     },
     "execution_count": 6,
     "metadata": {},
     "output_type": "execute_result"
    }
   ],
   "source": [
    "delta = datetime(2011,1,7)- datetime(2008,5,24,8,15)\n",
    "delta"
   ]
  },
  {
   "cell_type": "code",
   "execution_count": 7,
   "metadata": {},
   "outputs": [
    {
     "data": {
      "text/plain": [
       "(957, 56700)"
      ]
     },
     "execution_count": 7,
     "metadata": {},
     "output_type": "execute_result"
    }
   ],
   "source": [
    "# we can extract the days and the seconds from this delta\n",
    "delta.days, delta.seconds"
   ]
  },
  {
   "cell_type": "markdown",
   "metadata": {},
   "source": [
    "**You can add or subtract a timedelta or multiple thereof to a datetime object to yield a new shifted object**"
   ]
  },
  {
   "cell_type": "code",
   "execution_count": 8,
   "metadata": {},
   "outputs": [],
   "source": [
    "from datetime import timedelta"
   ]
  },
  {
   "cell_type": "code",
   "execution_count": 9,
   "metadata": {},
   "outputs": [
    {
     "data": {
      "text/plain": [
       "datetime.datetime(2011, 2, 19, 0, 0, 1)"
      ]
     },
     "execution_count": 9,
     "metadata": {},
     "output_type": "execute_result"
    }
   ],
   "source": [
    "start = datetime(2011,2,7)\n",
    "\n",
    "# adding time delta\n",
    "start + timedelta(12,1)"
   ]
  },
  {
   "cell_type": "code",
   "execution_count": 10,
   "metadata": {},
   "outputs": [
    {
     "data": {
      "text/plain": [
       "datetime.datetime(2011, 1, 25, 23, 59, 59)"
      ]
     },
     "execution_count": 10,
     "metadata": {},
     "output_type": "execute_result"
    }
   ],
   "source": [
    "# subtracting time delta\n",
    "start - timedelta(12,1)"
   ]
  },
  {
   "cell_type": "markdown",
   "metadata": {},
   "source": [
    "**datetime object standard to python and the timestamp object with Pandas can be formatted using the `str` or the `strftime` method**"
   ]
  },
  {
   "cell_type": "code",
   "execution_count": 11,
   "metadata": {},
   "outputs": [
    {
     "data": {
      "text/plain": [
       "'2011-01-12 00:00:00'"
      ]
     },
     "execution_count": 11,
     "metadata": {},
     "output_type": "execute_result"
    }
   ],
   "source": [
    "stamp = datetime(2011,1,12)\n",
    "str(stamp)"
   ]
  },
  {
   "cell_type": "code",
   "execution_count": 12,
   "metadata": {},
   "outputs": [
    {
     "data": {
      "text/plain": [
       "datetime.datetime(2011, 1, 12, 0, 0)"
      ]
     },
     "execution_count": 12,
     "metadata": {},
     "output_type": "execute_result"
    }
   ],
   "source": [
    "stamp"
   ]
  },
  {
   "cell_type": "code",
   "execution_count": 16,
   "metadata": {},
   "outputs": [
    {
     "data": {
      "text/plain": [
       "'2011-01-12-00- 00'"
      ]
     },
     "execution_count": 16,
     "metadata": {},
     "output_type": "execute_result"
    }
   ],
   "source": [
    "# lets format using strftime\n",
    "stamp.strftime('%Y-%m-%d-%H-%M')"
   ]
  },
  {
   "cell_type": "code",
   "execution_count": 18,
   "metadata": {},
   "outputs": [
    {
     "data": {
      "text/plain": [
       "datetime.datetime(2011, 1, 12, 0, 0)"
      ]
     },
     "execution_count": 18,
     "metadata": {},
     "output_type": "execute_result"
    }
   ],
   "source": [
    "# we used strftime to format the datetime, however,we can use datetime.strptime to actually used to convert strings\n",
    "# to datetime\n",
    "\n",
    "value = '2011-01-12'\n",
    "datetime.strptime(value, '%Y-%m-%d')"
   ]
  },
  {
   "cell_type": "markdown",
   "metadata": {},
   "source": [
    "- `datetime.strptime` is the best way to parse date with a known format.. But what if we dont know the format?? We can use the dateutil.parser.parse to parse the datetime"
   ]
  },
  {
   "cell_type": "code",
   "execution_count": 21,
   "metadata": {},
   "outputs": [],
   "source": [
    "from dateutil.parser import parse"
   ]
  },
  {
   "cell_type": "code",
   "execution_count": 22,
   "metadata": {},
   "outputs": [
    {
     "data": {
      "text/plain": [
       "datetime.datetime(1999, 12, 12, 0, 0)"
      ]
     },
     "execution_count": 22,
     "metadata": {},
     "output_type": "execute_result"
    }
   ],
   "source": [
    "parse('1999-12-12')"
   ]
  },
  {
   "cell_type": "code",
   "execution_count": 26,
   "metadata": {},
   "outputs": [
    {
     "data": {
      "text/plain": [
       "datetime.datetime(2001, 1, 15, 18, 45)"
      ]
     },
     "execution_count": 26,
     "metadata": {},
     "output_type": "execute_result"
    }
   ],
   "source": [
    "parse('Jan 15, 2001 18:45')"
   ]
  }
 ],
 "metadata": {
  "kernelspec": {
   "display_name": "Python 3",
   "language": "python",
   "name": "python3"
  },
  "language_info": {
   "codemirror_mode": {
    "name": "ipython",
    "version": 3
   },
   "file_extension": ".py",
   "mimetype": "text/x-python",
   "name": "python",
   "nbconvert_exporter": "python",
   "pygments_lexer": "ipython3",
   "version": "3.7.6"
  }
 },
 "nbformat": 4,
 "nbformat_minor": 4
}
